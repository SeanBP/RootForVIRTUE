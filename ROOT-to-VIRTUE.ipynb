{
 "cells": [
  {
   "cell_type": "code",
   "execution_count": 1,
   "metadata": {},
   "outputs": [],
   "source": [
    "import uproot as ur\n",
    "import matplotlib.pyplot as plt\n",
    "import k3d\n",
    "import numpy as np\n",
    "import awkward as ak\n",
    "import json"
   ]
  },
  {
   "cell_type": "code",
   "execution_count": 2,
   "metadata": {},
   "outputs": [
    {
     "name": "stdout",
     "output_type": "stream",
     "text": [
      "['B0ECalRecHits/B0ECalRecHits.position.x', 'B0TrackerRecHits/B0TrackerRecHits.position.x', 'BackwardMPGDEndcapRecHits/BackwardMPGDEndcapRecHits.position.x', 'EcalBarrelImagingRecHits/EcalBarrelImagingRecHits.position.x', 'EcalBarrelScFiRecHits/EcalBarrelScFiRecHits.position.x', 'EcalBarrelSciGlassRecHits/EcalBarrelSciGlassRecHits.position.x', 'EcalEndcapNRecHits/EcalEndcapNRecHits.position.x', 'EcalEndcapPInsertRecHits/EcalEndcapPInsertRecHits.position.x', 'EcalEndcapPRecHits/EcalEndcapPRecHits.position.x', 'EcalLumiSpecRecHits/EcalLumiSpecRecHits.position.x', 'ForwardMPGDEndcapRecHits/ForwardMPGDEndcapRecHits.position.x', 'HcalBarrelRecHits/HcalBarrelRecHits.position.x', 'HcalEndcapNRecHits/HcalEndcapNRecHits.position.x', 'HcalEndcapPInsertRecHits/HcalEndcapPInsertRecHits.position.x', 'HcalEndcapPRecHits/HcalEndcapPRecHits.position.x', 'LFHCALRecHits/LFHCALRecHits.position.x', 'MPGDBarrelRecHits/MPGDBarrelRecHits.position.x', 'MPGDDIRCRecHits/MPGDDIRCRecHits.position.x', 'OuterMPGDBarrelRecHits/OuterMPGDBarrelRecHits.position.x', 'SiBarrelTrackerRecHits/SiBarrelTrackerRecHits.position.x', 'SiBarrelVertexRecHits/SiBarrelVertexRecHits.position.x', 'SiEndcapTrackerRecHits/SiEndcapTrackerRecHits.position.x', 'TOFEndcapRecHits/TOFEndcapRecHits.position.x', 'ZDCEcalRecHits/ZDCEcalRecHits.position.x']\n"
     ]
    }
   ],
   "source": [
    "eventPath = 'Events.json'\n",
    "\n",
    "input_file = 'pythia8NCDIS_18x275_minQ2=1000_beamEffects_xAngle=-0.025_hiDiv_1.0000.eicrecon.tree.edm4eic.root'\n",
    "# Open the root file and get the TTree\n",
    "events = ur.open(\"%s:events\"%(input_file))\n",
    "#arrays = events.arrays()\n",
    "\n",
    "# Get the list of branch names matching the naming pattern\n",
    "matching_branches = [key for key in events.keys() if key.endswith(\"RecHits.position.x\")]\n",
    "energy_branches = [key for key in events.keys() if key.endswith(\"RecHits.energy\")]\n",
    "time_branches = [key for key in events.keys() if key.endswith(\"RecHits.time\")]\n",
    "print(matching_branches)"
   ]
  },
  {
   "cell_type": "code",
   "execution_count": 3,
   "metadata": {},
   "outputs": [
    {
     "name": "stdout",
     "output_type": "stream",
     "text": [
      "B0TrackerRecHits/B0TrackerRecHits.time\n",
      "BackwardMPGDEndcapRecHits/BackwardMPGDEndcapRecHits.time\n",
      "ForwardMPGDEndcapRecHits/ForwardMPGDEndcapRecHits.time\n",
      "MPGDBarrelRecHits/MPGDBarrelRecHits.time\n",
      "OuterMPGDBarrelRecHits/OuterMPGDBarrelRecHits.time\n",
      "SiBarrelTrackerRecHits/SiBarrelTrackerRecHits.time\n",
      "SiBarrelVertexRecHits/SiBarrelVertexRecHits.time\n",
      "SiEndcapTrackerRecHits/SiEndcapTrackerRecHits.time\n"
     ]
    }
   ],
   "source": [
    "t = []\n",
    "x = []\n",
    "y = []\n",
    "z = []\n",
    "e = []\n",
    "mint = []\n",
    "\n",
    "def has_negative_value(lst):\n",
    "    for sublist in lst:\n",
    "        for value in sublist:\n",
    "            if value < 0:\n",
    "                #mint.append(value)\n",
    "                return True\n",
    "    return False\n",
    "\n",
    "\n",
    "for key in matching_branches:\n",
    "\n",
    "    x.append(np.array(events[key]))\n",
    "    y.append(np.array(events[key.replace(\".position.x\", \".position.y\")]))\n",
    "    z.append(np.array(events[key.replace(\".position.x\", \".position.z\")]))\n",
    "    \n",
    "    if has_negative_value(np.array(events[key.replace(\"RecHits.position.x\", \"RecHits.time\")])):\n",
    "        print(key.replace(\".position.x\", \".time\"))\n",
    "        t.append([np.zeros_like(inner) for inner in np.array(events[key])])\n",
    "    else:\n",
    "        t.append(np.array(events[key.replace(\".position.x\", \".time\")]))\n",
    "    \n",
    "    if key.replace(\".position.x\", \".energy\") in energy_branches:\n",
    "        e.append(np.array(events[key.replace(\".position.x\", \".energy\")]))\n",
    "    else:\n",
    "        e.append([-1*np.ones_like(inner) for inner in np.array(events[key])])   \n",
    "\n",
    "x = [[inner for sublist in x for inner in sublist[i]] for i in range(len(x[0]))]\n",
    "y = [[inner for sublist in y for inner in sublist[i]] for i in range(len(y[0]))]\n",
    "z = [[inner for sublist in z for inner in sublist[i]] for i in range(len(z[0]))]\n",
    "t = [[inner for sublist in t for inner in sublist[i]] for i in range(len(t[0]))]\n",
    "e = [[inner for sublist in e for inner in sublist[i]] for i in range(len(e[0]))]"
   ]
  },
  {
   "cell_type": "code",
   "execution_count": 4,
   "metadata": {},
   "outputs": [],
   "source": [
    "use_log_scale = True  # Set to True for logarithmic scale, False for linear scale\n",
    "time_window = 10 # All hits below this time value will be given artificial hit times\n",
    "\n",
    "data = []\n",
    "\n",
    "numEvts = 20\n",
    "if len(x) < 20:\n",
    "    numEvts = len(x)\n",
    "\n",
    "for i in range(numEvts):\n",
    "    event = {\n",
    "        \"infoText\": \"EIC ePIC 18x275 ep Event #\" + str(i),\n",
    "        \"colorScale\": {}\n",
    "    }\n",
    "\n",
    "    # Filter out energies less than or equal to 0\n",
    "    valid_energies = [energy for energy in e[i] if energy > 0]\n",
    "\n",
    "    if valid_energies:\n",
    "        min_energy = min(valid_energies)\n",
    "        max_energy = max(valid_energies)\n",
    "\n",
    "        event[\"colorScale\"][\"min\"] = float(min_energy)\n",
    "        event[\"colorScale\"][\"max\"] = float(max_energy)\n",
    "\n",
    "        if use_log_scale:\n",
    "            # Logarithmic scaling\n",
    "            normalized_energy = [np.log(energy / min_energy) / np.log(max_energy / min_energy) if energy > 0 else energy for energy in e[i]]\n",
    "        else:\n",
    "            # Linear scaling\n",
    "            normalized_energy = [(energy - min_energy) / (max_energy - min_energy) if energy > 0 else energy for energy in e[i]]\n",
    "    else:\n",
    "        # If all energies are 0 or less, retain the original values\n",
    "        normalized_energy = e[i]\n",
    "\n",
    "    objects = []\n",
    "\n",
    "    for j in range(len(x[i])):\n",
    "        if t[i][j] > time_window:\n",
    "            obj = {\n",
    "                \"type\": \"hit\",\n",
    "                \"time\": float(t[i][j]),\n",
    "                \"x\": float(x[i][j] / 1000),\n",
    "                \"y\": float(y[i][j] / 1000),\n",
    "                \"z\": float(z[i][j] / 1000),\n",
    "                \"color\": float(normalized_energy[j])\n",
    "            }\n",
    "        else:\n",
    "            dist = np.sqrt((x[i][j] / 1000) ** 2 + (y[i][j] / 1000) ** 2 + (z[i][j] / 1000) ** 2)\n",
    "            c = 0.299792\n",
    "            time = dist / c\n",
    "\n",
    "            obj = {\n",
    "                \"type\": \"hit\",\n",
    "                \"time\": float(time),\n",
    "                \"x\": float(x[i][j] / 1000),\n",
    "                \"y\": float(y[i][j] / 1000),\n",
    "                \"z\": float(z[i][j] / 1000),\n",
    "                \"color\": float(normalized_energy[j])\n",
    "            }\n",
    "\n",
    "        objects.append(obj)\n",
    "\n",
    "    event[\"objects\"] = objects\n",
    "    data.append(event)\n",
    "\n",
    "# Write data to JSON file\n",
    "with open(eventPath, 'w') as json_file:\n",
    "    json.dump(data, json_file, indent=2)"
   ]
  }
 ],
 "metadata": {
  "kernelspec": {
   "display_name": "Python 3",
   "language": "python",
   "name": "python3"
  },
  "language_info": {
   "codemirror_mode": {
    "name": "ipython",
    "version": 3
   },
   "file_extension": ".py",
   "mimetype": "text/x-python",
   "name": "python",
   "nbconvert_exporter": "python",
   "pygments_lexer": "ipython3",
   "version": "3.7.6"
  }
 },
 "nbformat": 4,
 "nbformat_minor": 4
}
